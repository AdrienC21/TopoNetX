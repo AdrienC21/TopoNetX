{
 "cells": [
  {
   "cell_type": "markdown",
   "id": "44394b1d",
   "metadata": {},
   "source": [
    "# Cell Complexes"
   ]
  },
  {
   "cell_type": "markdown",
   "id": "6eacafde",
   "metadata": {},
   "source": [
    "## Setup"
   ]
  },
  {
   "cell_type": "code",
   "execution_count": 1,
   "id": "06c61542",
   "metadata": {},
   "outputs": [],
   "source": [
    "import numpy as np\n",
    "\n",
    "from toponetx import CellComplex as cx"
   ]
  },
  {
   "cell_type": "markdown",
   "id": "c5fd80d7",
   "metadata": {},
   "source": [
    "## Cell Complex\n",
    "\n",
    "A cell complex is a mathematical structure consisting of a set of points (called vertices or 0-cells), a set of line segments (called edges or 1-cells), and a set of polygons (called faces or 2-cells), such that the vertices, edges, and faces are connected in a consistent way."
   ]
  },
  {
   "cell_type": "markdown",
   "id": "1df78db3",
   "metadata": {},
   "source": []
  },
  {
   "cell_type": "code",
   "execution_count": null,
   "id": "d506c4ec",
   "metadata": {},
   "outputs": [],
   "source": []
  },
  {
   "cell_type": "markdown",
   "id": "3cb9e5d0",
   "metadata": {},
   "source": [
    "## Example"
   ]
  },
  {
   "cell_type": "code",
   "execution_count": null,
   "id": "fe842d30",
   "metadata": {},
   "outputs": [],
   "source": []
  },
  {
   "cell_type": "markdown",
   "id": "2d1f74fb",
   "metadata": {},
   "source": []
  },
  {
   "cell_type": "markdown",
   "id": "b94c5f8d",
   "metadata": {},
   "source": [
    "## Hodge Laplacian"
   ]
  },
  {
   "cell_type": "code",
   "execution_count": null,
   "id": "a9cb5397",
   "metadata": {},
   "outputs": [],
   "source": []
  }
 ],
 "metadata": {
  "kernelspec": {
   "display_name": "Python 3",
   "language": "python",
   "name": "python3"
  },
  "language_info": {
   "codemirror_mode": {
    "name": "ipython",
    "version": 3
   },
   "file_extension": ".py",
   "mimetype": "text/x-python",
   "name": "python",
   "nbconvert_exporter": "python",
   "pygments_lexer": "ipython3",
   "version": "3.8.8"
  }
 },
 "nbformat": 4,
 "nbformat_minor": 5
}
