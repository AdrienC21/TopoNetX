{
 "cells": [
  {
   "cell_type": "markdown",
   "id": "2c207c5b",
   "metadata": {},
   "source": [
    "# Cell Complexes"
   ]
  },
  {
   "cell_type": "markdown",
   "id": "28e507f3",
   "metadata": {},
   "source": [
    "## Setup"
   ]
  },
  {
   "cell_type": "code",
   "execution_count": 1,
   "id": "87af1a10",
   "metadata": {},
   "outputs": [],
   "source": [
    "import numpy as np\n",
    "\n",
    "from toponetx import CellComplex as cx"
   ]
  },
  {
   "cell_type": "markdown",
   "id": "9a9ac8ae",
   "metadata": {},
   "source": [
    "## Cell Complex\n",
    "\n",
    "In mathematics, a cell complex is a space that is constructed by attaching lower-dimensional cells to a topological space to form a new space. The cells are attatched to the space in a specific way, and the resulting space has a well-defined structure.\n",
    "\n",
    "For example, a cell complex can be used to represent a simplicial complex, which is a collection of points, line segments, triangles, and higher-dimensional simplices that are connected in a specific way. Each simplex in the simplicial complex is called a cell, and the cell complex consists of all of these cells *and* the way they are connected.\n",
    "\n",
    "A cell complex is a mathematical structure consisting of a set of points (called vertices or 0-cells), a set of line segments (called edges or 1-cells), and a set of polygons (called faces or 2-cells), such that the vertices, edges, and faces are connected in a consistent way.\n",
    "\n",
    "The dimension of a cell c ∈ X is denoted by d(c), and the dimension of a cell complex is the largest dimension of one of its cells. $[1]$"
   ]
  },
  {
   "cell_type": "markdown",
   "id": "fac6da60",
   "metadata": {},
   "source": [
    "## Example of a Cell Complex"
   ]
  },
  {
   "cell_type": "markdown",
   "id": "eb95cf2d",
   "metadata": {},
   "source": []
  },
  {
   "cell_type": "markdown",
   "id": "d89b616f",
   "metadata": {},
   "source": [
    "## Example"
   ]
  },
  {
   "cell_type": "code",
   "execution_count": null,
   "id": "a48e579f",
   "metadata": {},
   "outputs": [],
   "source": []
  },
  {
   "cell_type": "markdown",
   "id": "3f5fa91f",
   "metadata": {},
   "source": []
  },
  {
   "cell_type": "markdown",
   "id": "95056822",
   "metadata": {},
   "source": [
    "## Hodge Laplacian"
   ]
  },
  {
   "cell_type": "code",
   "execution_count": null,
   "id": "ea4559bf",
   "metadata": {},
   "outputs": [],
   "source": []
  },
  {
   "cell_type": "markdown",
   "id": "b01db6f5",
   "metadata": {},
   "source": [
    "## References\n",
    "\n",
    "$[1]$ : Hajij, M., Istvan, K. and Zamzmi, G. (n.d.). CELL COMPLEX NEURAL NETWORKS. [online] Available at: https://arxiv.org/pdf/2010.00743.pdf [Accessed 10 Feb. 2023]."
   ]
  }
 ],
 "metadata": {
  "kernelspec": {
   "display_name": "Python 3",
   "language": "python",
   "name": "python3"
  },
  "language_info": {
   "codemirror_mode": {
    "name": "ipython",
    "version": 3
   },
   "file_extension": ".py",
   "mimetype": "text/x-python",
   "name": "python",
   "nbconvert_exporter": "python",
   "pygments_lexer": "ipython3",
   "version": "3.8.8"
  }
 },
 "nbformat": 4,
 "nbformat_minor": 5
}
