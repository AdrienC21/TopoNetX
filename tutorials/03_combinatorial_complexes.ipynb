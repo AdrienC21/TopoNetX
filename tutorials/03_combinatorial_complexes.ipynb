{
 "cells": [
  {
   "cell_type": "markdown",
   "id": "9ff4c41f",
   "metadata": {},
   "source": [
    "# Combinatorial Complexes"
   ]
  },
  {
   "cell_type": "markdown",
   "id": "ede63e19",
   "metadata": {},
   "source": [
    "## Setup"
   ]
  },
  {
   "cell_type": "code",
   "execution_count": 1,
   "id": "6f1231fb",
   "metadata": {},
   "outputs": [],
   "source": [
    "from toponetx import CombinatorialComplex as cc"
   ]
  },
  {
   "cell_type": "markdown",
   "id": "7c5c8f8b",
   "metadata": {},
   "source": [
    "## Combinatorial Complex"
   ]
  },
  {
   "cell_type": "markdown",
   "id": "c57d4558",
   "metadata": {},
   "source": [
    "A *combinatorial complex* combines features of both hypergraphs and of cell complexes $[1]$. A hypergraph is, as defined by $[2]$, a generalisation of a graph in which a single edge is not limited to joining just two vertices like in an ordinary graph, but can actually join multiple vertices together. \n",
    "\n",
    "TODO: Set \n",
    "\n",
    "TODO: Hierarchy"
   ]
  },
  {
   "cell_type": "markdown",
   "id": "a2b54ded",
   "metadata": {},
   "source": [
    "### Defintion of Combinatorial Complex"
   ]
  },
  {
   "cell_type": "markdown",
   "id": "b360ada1",
   "metadata": {},
   "source": [
    "$[1]$ Let S be a non-empty finite set and $\\mathcal{P}(S)$ its power set. A combinatorial complex (CC) is a tuple $(X, \\imath)$ formed by a set $X \\subset \\mathcal{P}(S)$ \\ ${\\emptyset}$ together with a rank function $\\imath : X \\rightarrow \\mathbb{Z}^+$\n",
    "that \n",
    "\n",
    "&emsp; (i) $\\imath$({$x$}) $= 0$ for all $x \\in S$, and \n",
    "\n",
    "&emsp; (ii) for all $x, y \\in X$ , if $x \\subsetneq y$ then $\\imath (x) < \\imath (y)$."
   ]
  },
  {
   "cell_type": "markdown",
   "id": "04abb336",
   "metadata": {},
   "source": [
    "### Example of a Combinatorial Complex"
   ]
  },
  {
   "cell_type": "markdown",
   "id": "fe58730e",
   "metadata": {},
   "source": []
  },
  {
   "cell_type": "code",
   "execution_count": null,
   "id": "ca1d38c0",
   "metadata": {},
   "outputs": [],
   "source": []
  },
  {
   "cell_type": "markdown",
   "id": "4996438d",
   "metadata": {},
   "source": [
    "## Adjacency"
   ]
  },
  {
   "cell_type": "markdown",
   "id": "b1238573",
   "metadata": {},
   "source": [
    "### Adjacency Matrix"
   ]
  },
  {
   "cell_type": "markdown",
   "id": "1f6ffba4",
   "metadata": {},
   "source": [
    "### Cell Adjacency Matrix"
   ]
  },
  {
   "cell_type": "markdown",
   "id": "abbba973",
   "metadata": {},
   "source": [
    "### Node Adjacency Matrix"
   ]
  },
  {
   "cell_type": "markdown",
   "id": "75432991",
   "metadata": {},
   "source": [
    "### Co-Adjacency Matrix"
   ]
  },
  {
   "cell_type": "markdown",
   "id": "b334b005",
   "metadata": {},
   "source": [
    "## Incidence"
   ]
  },
  {
   "cell_type": "markdown",
   "id": "825e3a4b",
   "metadata": {},
   "source": [
    "### Incidence Matrix"
   ]
  },
  {
   "cell_type": "markdown",
   "id": "185d255f",
   "metadata": {},
   "source": [
    "### Incidence to Adjacency \n"
   ]
  },
  {
   "cell_type": "markdown",
   "id": "5caceacf",
   "metadata": {},
   "source": [
    "## References"
   ]
  },
  {
   "cell_type": "markdown",
   "id": "71946c86",
   "metadata": {},
   "source": [
    "$[1]$ : Hajij, M., Zamzmi, G., Papamarkou, T., Miolane, N., Guzmán-Sáenz, A. and Ramamurthy, K. (n.d.). *Higher-Order Attention Networks*. [online] Available at: https://arxiv.org/pdf/2206.00606.pdf [Accessed 3 Apr. 2023]."
   ]
  }
 ],
 "metadata": {
  "kernelspec": {
   "display_name": "Python 3",
   "language": "python",
   "name": "python3"
  },
  "language_info": {
   "codemirror_mode": {
    "name": "ipython",
    "version": 3
   },
   "file_extension": ".py",
   "mimetype": "text/x-python",
   "name": "python",
   "nbconvert_exporter": "python",
   "pygments_lexer": "ipython3",
   "version": "3.8.8"
  }
 },
 "nbformat": 4,
 "nbformat_minor": 5
}
