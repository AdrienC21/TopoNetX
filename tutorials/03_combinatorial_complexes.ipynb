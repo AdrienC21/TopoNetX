{
 "cells": [
  {
   "cell_type": "markdown",
   "id": "a58f9ea8",
   "metadata": {},
   "source": [
    "# Combinatorial Complexes"
   ]
  },
  {
   "cell_type": "markdown",
   "id": "eb4b35e1",
   "metadata": {},
   "source": [
    "## Setup"
   ]
  },
  {
   "cell_type": "code",
   "execution_count": null,
   "id": "2dab0b8d",
   "metadata": {},
   "outputs": [],
   "source": []
  },
  {
   "cell_type": "markdown",
   "id": "f91285a5",
   "metadata": {},
   "source": [
    "## Combinatorial Complex"
   ]
  },
  {
   "cell_type": "markdown",
   "id": "cf64c629",
   "metadata": {},
   "source": []
  },
  {
   "cell_type": "markdown",
   "id": "97d1c490",
   "metadata": {},
   "source": [
    "### Example of a Combinatorial Complex"
   ]
  },
  {
   "cell_type": "markdown",
   "id": "433d79ec",
   "metadata": {},
   "source": []
  },
  {
   "cell_type": "code",
   "execution_count": null,
   "id": "d5deff7b",
   "metadata": {},
   "outputs": [],
   "source": []
  },
  {
   "cell_type": "markdown",
   "id": "1bd859e9",
   "metadata": {},
   "source": [
    "## Adjacency"
   ]
  },
  {
   "cell_type": "markdown",
   "id": "c5da1886",
   "metadata": {},
   "source": [
    "### Adjacency Matrix"
   ]
  },
  {
   "cell_type": "markdown",
   "id": "5d0f3f0b",
   "metadata": {},
   "source": [
    "### Cell Adjacency Matrix"
   ]
  },
  {
   "cell_type": "markdown",
   "id": "fad477d7",
   "metadata": {},
   "source": [
    "### Node Adjacency Matrix"
   ]
  },
  {
   "cell_type": "markdown",
   "id": "6fa7f256",
   "metadata": {},
   "source": [
    "### Co-Adjacency Matrix"
   ]
  },
  {
   "cell_type": "markdown",
   "id": "5ccef92d",
   "metadata": {},
   "source": [
    "## Incidence"
   ]
  },
  {
   "cell_type": "markdown",
   "id": "b86ac162",
   "metadata": {},
   "source": [
    "### Incidence Matrix"
   ]
  },
  {
   "cell_type": "markdown",
   "id": "fa1b9e84",
   "metadata": {},
   "source": [
    "### Incidence to Adjacency \n"
   ]
  }
 ],
 "metadata": {
  "kernelspec": {
   "display_name": "Python 3",
   "language": "python",
   "name": "python3"
  },
  "language_info": {
   "codemirror_mode": {
    "name": "ipython",
    "version": 3
   },
   "file_extension": ".py",
   "mimetype": "text/x-python",
   "name": "python",
   "nbconvert_exporter": "python",
   "pygments_lexer": "ipython3",
   "version": "3.8.8"
  }
 },
 "nbformat": 4,
 "nbformat_minor": 5
}
